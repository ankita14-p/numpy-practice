{
  "nbformat": 4,
  "nbformat_minor": 0,
  "metadata": {
    "colab": {
      "provenance": [],
      "authorship_tag": "ABX9TyPH7j6heab+nClf7KmUEV1x"
    },
    "kernelspec": {
      "name": "python3",
      "display_name": "Python 3"
    },
    "language_info": {
      "name": "python"
    }
  },
  "cells": [
    {
      "cell_type": "code",
      "execution_count": null,
      "metadata": {
        "id": "OOwWnhUEGN9R"
      },
      "outputs": [],
      "source": [
        "#Importing numpy\n",
        "import numpy as np"
      ]
    },
    {
      "cell_type": "markdown",
      "source": [
        "#Numpy Arrays are faster than list"
      ],
      "metadata": {
        "id": "AKL8RKf_GY08"
      }
    },
    {
      "cell_type": "code",
      "source": [
        "from time import process_time\n",
        "list_1=[i for i in range(10000)]\n",
        "start=process_time()\n",
        "list_2=[i+3 for i in list_1]\n",
        "end=process_time()\n",
        "print(end-start)"
      ],
      "metadata": {
        "colab": {
          "base_uri": "https://localhost:8080/"
        },
        "id": "N6AiyX4XGgem",
        "outputId": "6b9de2dc-0076-42d1-994a-49e560061963"
      },
      "execution_count": null,
      "outputs": [
        {
          "output_type": "stream",
          "name": "stdout",
          "text": [
            "0.0006085540000011491\n"
          ]
        }
      ]
    },
    {
      "cell_type": "code",
      "source": [
        "np_array=np.array([i for i in range(10000)])\n",
        "start=process_time()\n",
        "np_array+=3 #another loop is not required\n",
        "end=process_time()\n",
        "print(end-start)"
      ],
      "metadata": {
        "colab": {
          "base_uri": "https://localhost:8080/"
        },
        "id": "vKdXxsNuGYZH",
        "outputId": "0a607135-6c0b-43ec-e86e-b0835a34dff3"
      },
      "execution_count": null,
      "outputs": [
        {
          "output_type": "stream",
          "name": "stdout",
          "text": [
            "0.00016338400000037723\n"
          ]
        }
      ]
    },
    {
      "cell_type": "markdown",
      "source": [
        "#Creation of Numpy Arrays"
      ],
      "metadata": {
        "id": "qVvqaNxYHdzY"
      }
    },
    {
      "cell_type": "code",
      "source": [
        "np_array=np.array([1,2,3,4,5,6])\n",
        "print(np_array)\n",
        "type(np_array)\n",
        "#order of the array\n",
        "np_array.shape"
      ],
      "metadata": {
        "colab": {
          "base_uri": "https://localhost:8080/"
        },
        "id": "tY4MFPknHhJG",
        "outputId": "421df382-69f0-41d5-c850-18afd9a9af78"
      },
      "execution_count": null,
      "outputs": [
        {
          "output_type": "stream",
          "name": "stdout",
          "text": [
            "[1 2 3 4 5 6]\n"
          ]
        },
        {
          "output_type": "execute_result",
          "data": {
            "text/plain": [
              "(6,)"
            ]
          },
          "metadata": {},
          "execution_count": 8
        }
      ]
    },
    {
      "cell_type": "code",
      "source": [
        "#Creating 2D Array\n",
        "a=np.array([(1,2,3),(4,5,6),(7,8,9)])\n",
        "print(a)\n",
        "print(a.shape)\n",
        "#Dimension of array\n",
        "print(a.ndim)"
      ],
      "metadata": {
        "colab": {
          "base_uri": "https://localhost:8080/"
        },
        "id": "24uotZz8H3wB",
        "outputId": "8b04f95e-8cdc-4b80-fe47-abbf86541104"
      },
      "execution_count": null,
      "outputs": [
        {
          "output_type": "stream",
          "name": "stdout",
          "text": [
            "[[1 2 3]\n",
            " [4 5 6]\n",
            " [7 8 9]]\n",
            "(3, 3)\n",
            "2\n"
          ]
        }
      ]
    },
    {
      "cell_type": "code",
      "source": [
        "#Creating a floating points array\n",
        "b=np.array([(1,2,3),(4,5,8)],dtype=float)\n",
        "print(b)"
      ],
      "metadata": {
        "colab": {
          "base_uri": "https://localhost:8080/"
        },
        "id": "0Vp1OvOmISXB",
        "outputId": "1b4c946c-d83c-4328-d732-a57c11ead211"
      },
      "execution_count": null,
      "outputs": [
        {
          "output_type": "stream",
          "name": "stdout",
          "text": [
            "[[1. 2. 3.]\n",
            " [4. 5. 8.]]\n"
          ]
        }
      ]
    },
    {
      "cell_type": "markdown",
      "source": [
        "#Initial Placeholders in Numpy Arrays"
      ],
      "metadata": {
        "id": "SnwyybGwIosr"
      }
    },
    {
      "cell_type": "code",
      "source": [
        "#Numpy array of zeroes\n",
        "a=np.zeros((3,2))\n",
        "print(a) #datatype --> float\n",
        "#Numpy array of 1\n",
        "b=np.ones((3,2)) #datatype --> float\n",
        "print(b)\n",
        "#Numpy array of a particular value\n",
        "c=np.full((3,2),8) #datatype --> int\n",
        "print(c)\n"
      ],
      "metadata": {
        "colab": {
          "base_uri": "https://localhost:8080/"
        },
        "id": "CY652vYUImY9",
        "outputId": "73975784-9914-4059-fd14-c43b485ba7a6"
      },
      "execution_count": null,
      "outputs": [
        {
          "output_type": "stream",
          "name": "stdout",
          "text": [
            "[[0. 0.]\n",
            " [0. 0.]\n",
            " [0. 0.]]\n",
            "[[1. 1.]\n",
            " [1. 1.]\n",
            " [1. 1.]]\n",
            "[[8 8]\n",
            " [8 8]\n",
            " [8 8]]\n"
          ]
        }
      ]
    },
    {
      "cell_type": "markdown",
      "source": [
        "#Identity Matrix"
      ],
      "metadata": {
        "id": "0Ri30H9kKBXk"
      }
    },
    {
      "cell_type": "code",
      "source": [
        "a=np.eye(5)\n",
        "print(a)"
      ],
      "metadata": {
        "colab": {
          "base_uri": "https://localhost:8080/"
        },
        "id": "k_8iMiUWKEgw",
        "outputId": "bdfda36a-8317-41ae-df61-3feb071e5e0a"
      },
      "execution_count": null,
      "outputs": [
        {
          "output_type": "stream",
          "name": "stdout",
          "text": [
            "[[1. 0. 0. 0. 0.]\n",
            " [0. 1. 0. 0. 0.]\n",
            " [0. 0. 1. 0. 0.]\n",
            " [0. 0. 0. 1. 0.]\n",
            " [0. 0. 0. 0. 1.]]\n"
          ]
        }
      ]
    },
    {
      "cell_type": "markdown",
      "source": [
        "#Numpy array with random values"
      ],
      "metadata": {
        "id": "ooBcmVXUKPb4"
      }
    },
    {
      "cell_type": "code",
      "source": [
        "b=np.random.random((3,4)) #Values in the range 0-1 so floating numbers only\n",
        "print(b)\n",
        "c=np.random.randint(10,30,(3,4)) #matrix of 3*4 order with values between 10-30\n",
        "print(c)"
      ],
      "metadata": {
        "colab": {
          "base_uri": "https://localhost:8080/"
        },
        "id": "4t5UTuzMKTgC",
        "outputId": "d1df1d45-29e2-4027-dcf6-ee8c51c9be83"
      },
      "execution_count": null,
      "outputs": [
        {
          "output_type": "stream",
          "name": "stdout",
          "text": [
            "[[0.22654935 0.10916931 0.01174605 0.32506846]\n",
            " [0.33070362 0.38813076 0.42101758 0.79918969]\n",
            " [0.80607131 0.47172529 0.67092991 0.82552728]]\n",
            "[[23 23 15 20]\n",
            " [18 21 12 21]\n",
            " [27 11 20 11]]\n"
          ]
        }
      ]
    },
    {
      "cell_type": "markdown",
      "source": [
        "#Creating an evenly spaced  umpy array"
      ],
      "metadata": {
        "id": "BNQ2ckSJLt5E"
      }
    },
    {
      "cell_type": "code",
      "source": [
        "c=np.linspace(10,30,6) #no of elements specified\n",
        "print(c)\n",
        "d=np.arange(10,30,5) #step size specified\n",
        "print(d)"
      ],
      "metadata": {
        "colab": {
          "base_uri": "https://localhost:8080/"
        },
        "id": "mx0CTknKLzuC",
        "outputId": "395de7ba-5766-4e6a-d799-e8343857be24"
      },
      "execution_count": null,
      "outputs": [
        {
          "output_type": "stream",
          "name": "stdout",
          "text": [
            "[10. 14. 18. 22. 26. 30.]\n",
            "[10 15 20 25]\n"
          ]
        }
      ]
    },
    {
      "cell_type": "markdown",
      "source": [
        "#Converting a list to numpy array"
      ],
      "metadata": {
        "id": "7xWLB2CxMYhH"
      }
    },
    {
      "cell_type": "code",
      "source": [
        "list_1=[10,20,30,40,50]\n",
        "a=np.asarray(list_1)\n",
        "print(a)"
      ],
      "metadata": {
        "colab": {
          "base_uri": "https://localhost:8080/"
        },
        "id": "L9gaEQ9iMgG-",
        "outputId": "17d3c5bf-d127-4935-8997-9321a2f19bf1"
      },
      "execution_count": null,
      "outputs": [
        {
          "output_type": "stream",
          "name": "stdout",
          "text": [
            "[10 20 30 40 50]\n"
          ]
        }
      ]
    },
    {
      "cell_type": "markdown",
      "source": [
        "#Analysing a numpy array"
      ],
      "metadata": {
        "id": "ImS9QjTzNHUO"
      }
    },
    {
      "cell_type": "code",
      "source": [
        "c=np.random.randint(10,30,(4,5))\n",
        "#Dimension\n",
        "print(c.ndim)\n",
        "#No of elements\n",
        "print(c.size)\n",
        "#Datatype\n",
        "print(c.dtype)"
      ],
      "metadata": {
        "colab": {
          "base_uri": "https://localhost:8080/"
        },
        "id": "0mWFzbyzNJ1x",
        "outputId": "775b5865-afe4-4e6d-a152-b9b0dd388ec7"
      },
      "execution_count": null,
      "outputs": [
        {
          "output_type": "stream",
          "name": "stdout",
          "text": [
            "2\n",
            "20\n",
            "int64\n"
          ]
        }
      ]
    },
    {
      "cell_type": "markdown",
      "source": [
        "#Mathematical Operation"
      ],
      "metadata": {
        "id": "n-qNkhwSN8U0"
      }
    },
    {
      "cell_type": "code",
      "source": [
        "a=np.random.randint(10,30,(3,4))\n",
        "b=np.random.randint(20,40,(3,4))\n",
        "print(np.add(a,b))\n",
        "print(np.subtract(a,b))\n",
        "print(np.multiply(a,b))\n",
        "print(np.divide(a,b))\n"
      ],
      "metadata": {
        "colab": {
          "base_uri": "https://localhost:8080/"
        },
        "id": "tWbc5tf1SMuf",
        "outputId": "0d1d5f83-db6b-455c-cc9e-d8c240f0ae26"
      },
      "execution_count": null,
      "outputs": [
        {
          "output_type": "stream",
          "name": "stdout",
          "text": [
            "[[30 59 68 64]\n",
            " [39 46 44 50]\n",
            " [60 38 48 55]]\n",
            "[[-10 -13 -10  -8]\n",
            " [ -5 -16  -2  -2]\n",
            " [ -4 -14   2  -9]]\n",
            "[[ 200  828 1131 1008]\n",
            " [ 374  465  483  624]\n",
            " [ 896  312  575  736]]\n",
            "[[0.5        0.63888889 0.74358974 0.77777778]\n",
            " [0.77272727 0.48387097 0.91304348 0.92307692]\n",
            " [0.875      0.46153846 1.08695652 0.71875   ]]\n"
          ]
        }
      ]
    },
    {
      "cell_type": "markdown",
      "source": [
        "#Array Manipulation\n"
      ],
      "metadata": {
        "id": "Yom8omKvSi81"
      }
    },
    {
      "cell_type": "code",
      "source": [
        "c=a.T\n",
        "print(c)\n",
        "d=b.reshape(4,3)\n",
        "print(d)"
      ],
      "metadata": {
        "colab": {
          "base_uri": "https://localhost:8080/"
        },
        "id": "bVgSBSpnSmDk",
        "outputId": "0c53077d-7c64-4e18-f77b-ddf8bdcf10cb"
      },
      "execution_count": null,
      "outputs": [
        {
          "output_type": "stream",
          "name": "stdout",
          "text": [
            "[[10 17 28]\n",
            " [23 15 12]\n",
            " [29 21 25]\n",
            " [28 24 23]]\n",
            "[[20 36 39]\n",
            " [36 22 31]\n",
            " [23 26 32]\n",
            " [26 23 32]]\n"
          ]
        }
      ]
    }
  ]
}